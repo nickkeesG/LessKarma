{
 "cells": [
  {
   "cell_type": "code",
   "execution_count": 33,
   "metadata": {},
   "outputs": [],
   "source": [
    "from data_scraper.load_data import load_data\n",
    "from datetime import datetime"
   ]
  },
  {
   "cell_type": "code",
   "execution_count": 11,
   "metadata": {},
   "outputs": [
    {
     "name": "stdout",
     "output_type": "stream",
     "text": [
      "29518\n",
      "dict_keys(['createdAt', 'postedAt', 'modifiedAt', 'url', 'title', 'slug', 'viewCount', 'lastCommentedAt', 'clickCount', 'deletedDraft', 'status', 'isFuture', 'sticky', 'stickyPriority', 'userIP', 'userAgent', 'referrer', 'author', 'user', 'userId', 'domain', 'pageUrl', 'pageUrlRelative', 'linkUrl', 'postedAtFormatted', 'emailShareUrl', 'twitterShareUrl', 'facebookShareUrl', 'socialPreviewImageUrl', 'question', 'authorIsUnreviewed', 'wordCount', 'htmlBody', 'submitToFrontpage', 'hiddenRelatedQuestion', 'originalPostRelationSourceId', 'shortform', 'canonicalSource', 'nominationCount2018', 'nominationCount2019', 'reviewCount2018', 'reviewCount2019', 'reviewCount', 'reviewVoteCount', 'positiveReviewVoteCount', 'reviewVoteScoreAF', 'reviewVotesAF', 'reviewVoteScoreHighKarma', 'reviewVotesHighKarma', 'reviewVoteScoreAllKarma', 'reviewVotesAllKarma', 'finalReviewVoteScoreHighKarma', 'finalReviewVotesHighKarma', 'finalReviewVoteScoreAllKarma', 'finalReviewVotesAllKarma', 'finalReviewVoteScoreAF', 'finalReviewVotesAF', 'lastCommentPromotedAt', 'tagRelevance', 'noIndex', 'rsvps', 'activateRSVPs', 'nextDayReminderSent', 'onlyVisibleToLoggedIn', 'onlyVisibleToEstablishedAccounts', 'votingSystem', 'myEditorAccess', '_id', 'schemaVersion', 'currentUserVote', 'currentUserExtendedVote', 'allVotes', 'voteCount', 'baseScore', 'extendedScore', 'score', 'legacy', 'legacyId', 'legacySpam', 'feedId', 'feedLink', 'lastVisitedAt', 'isRead', 'curatedDate', 'metaDate', 'suggestForCuratedUsernames', 'suggestForCuratedUserIds', 'frontpageDate', 'collectionTitle', 'coauthorUserIds', 'socialPreviewImageId', 'socialPreviewImageAutoUrl', 'canonicalSequenceId', 'canonicalCollectionSlug', 'canonicalBookId', 'canonicalNextPostSlug', 'canonicalPrevPostSlug', 'unlisted', 'disableRecommendation', 'defaultRecommendation', 'draft', 'meta', 'hideFrontpageComments', 'maxBaseScore', 'bannedUserIds', 'commentsLocked', 'organizerIds', 'groupId', 'eventType', 'isEvent', 'reviewedByUserId', 'reviewForCuratedUserId', 'startTime', 'localStartTime', 'endTime', 'localEndTime', 'eventRegistrationLink', 'joinEventLink', 'onlineEvent', 'globalEvent', 'mongoLocation', 'googleLocation', 'location', 'contactInfo', 'facebookLink', 'meetupLink', 'website', 'eventImageId', 'types', 'metaSticky', 'sharingSettings', 'shareWithUsers', 'linkSharingKey', 'linkSharingKeyUsedBy', 'commentSortOrder', 'hideAuthor', 'tableOfContents', 'showModerationGuidelines', 'moderationStyle', 'hideCommentKarma', 'commentCount', 'af', 'version', 'pingbacks', 'moderationGuidelinesVersion', 'customHighlightVersion', 'afDate', 'afBaseScore', 'afExtendedScore', 'afCommentCount', 'afLastCommentedAt', 'afSticky', 'suggestForAlignmentUserIds', 'reviewForAlignmentUserId'])\n"
     ]
    }
   ],
   "source": [
    "# Load data, print length and keys\n",
    "all_data = load_data('data/lesswrong_2022-06-03_T11H07M')\n",
    "print(len(all_data))\n",
    "print(all_data[0].keys())"
   ]
  },
  {
   "cell_type": "code",
   "execution_count": 31,
   "metadata": {},
   "outputs": [
    {
     "name": "stdout",
     "output_type": "stream",
     "text": [
      "[('2012-09-26T02:30:53.785Z', 6), ('2012-09-26T03:53:48.227Z', 6), ('2012-09-26T12:25:48.899Z', 55), ('2012-09-26T16:55:32.611Z', 100), ('2012-09-26T23:46:39.597Z', 12)]\n"
     ]
    }
   ],
   "source": [
    "# View sample of data\n",
    "posted_dates = [x['postedAt'] for x in all_data]\n",
    "base_scores = [x['baseScore'] for x in all_data]\n",
    "print(list(zip(posted_dates[:5], base_scores[:5])))"
   ]
  },
  {
   "cell_type": "code",
   "execution_count": 40,
   "metadata": {},
   "outputs": [
    {
     "name": "stdout",
     "output_type": "stream",
     "text": [
      "2012-09-26 23:46:39.597000\n"
     ]
    }
   ],
   "source": [
    "posted_date_obj = [datetime.strptime(x, \"%Y-%m-%dT%H:%M:%S.%fZ\") for x in posted_dates]\n",
    "print(posted_date_obj[4])"
   ]
  }
 ],
 "metadata": {
  "interpreter": {
   "hash": "9702d019e0ecc78c4523bcde3a60ba511fd971dfb187035bf69a282ae2f1eab8"
  },
  "kernelspec": {
   "display_name": "Python 3.10.4 ('lesskarma-5hD8gFdB-py3.10')",
   "language": "python",
   "name": "python3"
  },
  "language_info": {
   "codemirror_mode": {
    "name": "ipython",
    "version": 3
   },
   "file_extension": ".py",
   "mimetype": "text/x-python",
   "name": "python",
   "nbconvert_exporter": "python",
   "pygments_lexer": "ipython3",
   "version": "3.10.4"
  },
  "orig_nbformat": 4
 },
 "nbformat": 4,
 "nbformat_minor": 2
}
