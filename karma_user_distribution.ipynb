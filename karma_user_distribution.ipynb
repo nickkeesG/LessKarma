{
 "cells": [
  {
   "cell_type": "code",
   "execution_count": 2,
   "metadata": {},
   "outputs": [],
   "source": [
    "import matplotlib.pylab as plt\n",
    "\n",
    "from data_scraper.load_data import load_data"
   ]
  },
  {
   "cell_type": "code",
   "execution_count": 3,
   "metadata": {},
   "outputs": [
    {
     "name": "stdout",
     "output_type": "stream",
     "text": [
      "29518\n",
      "dict_keys(['createdAt', 'postedAt', 'modifiedAt', 'url', 'title', 'slug', 'viewCount', 'lastCommentedAt', 'clickCount', 'deletedDraft', 'status', 'isFuture', 'sticky', 'stickyPriority', 'userIP', 'userAgent', 'referrer', 'author', 'user', 'userId', 'domain', 'pageUrl', 'pageUrlRelative', 'linkUrl', 'postedAtFormatted', 'emailShareUrl', 'twitterShareUrl', 'facebookShareUrl', 'socialPreviewImageUrl', 'question', 'authorIsUnreviewed', 'wordCount', 'htmlBody', 'submitToFrontpage', 'hiddenRelatedQuestion', 'originalPostRelationSourceId', 'shortform', 'canonicalSource', 'nominationCount2018', 'nominationCount2019', 'reviewCount2018', 'reviewCount2019', 'reviewCount', 'reviewVoteCount', 'positiveReviewVoteCount', 'reviewVoteScoreAF', 'reviewVotesAF', 'reviewVoteScoreHighKarma', 'reviewVotesHighKarma', 'reviewVoteScoreAllKarma', 'reviewVotesAllKarma', 'finalReviewVoteScoreHighKarma', 'finalReviewVotesHighKarma', 'finalReviewVoteScoreAllKarma', 'finalReviewVotesAllKarma', 'finalReviewVoteScoreAF', 'finalReviewVotesAF', 'lastCommentPromotedAt', 'tagRelevance', 'noIndex', 'rsvps', 'activateRSVPs', 'nextDayReminderSent', 'onlyVisibleToLoggedIn', 'onlyVisibleToEstablishedAccounts', 'votingSystem', 'myEditorAccess', '_id', 'schemaVersion', 'currentUserVote', 'currentUserExtendedVote', 'allVotes', 'voteCount', 'baseScore', 'extendedScore', 'score', 'legacy', 'legacyId', 'legacySpam', 'feedId', 'feedLink', 'lastVisitedAt', 'isRead', 'curatedDate', 'metaDate', 'suggestForCuratedUsernames', 'suggestForCuratedUserIds', 'frontpageDate', 'collectionTitle', 'coauthorUserIds', 'socialPreviewImageId', 'socialPreviewImageAutoUrl', 'canonicalSequenceId', 'canonicalCollectionSlug', 'canonicalBookId', 'canonicalNextPostSlug', 'canonicalPrevPostSlug', 'unlisted', 'disableRecommendation', 'defaultRecommendation', 'draft', 'meta', 'hideFrontpageComments', 'maxBaseScore', 'bannedUserIds', 'commentsLocked', 'organizerIds', 'groupId', 'eventType', 'isEvent', 'reviewedByUserId', 'reviewForCuratedUserId', 'startTime', 'localStartTime', 'endTime', 'localEndTime', 'eventRegistrationLink', 'joinEventLink', 'onlineEvent', 'globalEvent', 'mongoLocation', 'googleLocation', 'location', 'contactInfo', 'facebookLink', 'meetupLink', 'website', 'eventImageId', 'types', 'metaSticky', 'sharingSettings', 'shareWithUsers', 'linkSharingKey', 'linkSharingKeyUsedBy', 'commentSortOrder', 'hideAuthor', 'tableOfContents', 'showModerationGuidelines', 'moderationStyle', 'hideCommentKarma', 'commentCount', 'af', 'version', 'pingbacks', 'moderationGuidelinesVersion', 'customHighlightVersion', 'afDate', 'afBaseScore', 'afExtendedScore', 'afCommentCount', 'afLastCommentedAt', 'afSticky', 'suggestForAlignmentUserIds', 'reviewForAlignmentUserId'])\n"
     ]
    }
   ],
   "source": [
    "# Load data, print length and keys\n",
    "all_data = load_data('data/lesswrong_2022-06-03_T11H07M')\n",
    "print(len(all_data))\n",
    "print(all_data[0].keys())"
   ]
  },
  {
   "cell_type": "code",
   "execution_count": 35,
   "metadata": {},
   "outputs": [
    {
     "name": "stdout",
     "output_type": "stream",
     "text": [
      "[(6, 'So4JxeRr9GArTAK5D'), (6, 'QSBopDfW3DLzeMG7L'), (55, 'zwzw5ALJYG47kDek8'), (100, 'fD4ATtTkdQJ4aSpGH'), (12, 'eT8NPFmc2GDb5QFfc')]\n",
      "3552\n"
     ]
    }
   ],
   "source": [
    "# View sample of data\n",
    "base_scores = [x['baseScore'] for x in all_data if x['userId'] is not None]\n",
    "userIds = [x['userId'] for x in all_data if x['userId'] is not None]\n",
    "print(list(zip(base_scores[:5], userIds[:5])))"
   ]
  },
  {
   "cell_type": "code",
   "execution_count": 42,
   "metadata": {},
   "outputs": [
    {
     "data": {
      "image/png": "[encoded data removed]",
      "text/plain": [
       "<Figure size 432x288 with 1 Axes>"
      ]
     },
     "metadata": {
      "needs_background": "light"
     },
     "output_type": "display_data"
    }
   ],
   "source": [
    "user_to_score = {id: 0 for id in userIds}\n",
    "for i in range(len(userIds)):\n",
    "    user_to_score[userIds[i]] += base_scores[i]\n",
    "\n",
    "# Plot\n",
    "plt.hist(user_to_score.values(), bins=10, density=True)\n",
    "plt.savefig('plots/karma_user_distribution.png', dpi=300)\n",
    "plt.show()"
   ]
  }
 ],
 "metadata": {
  "interpreter": {
   "hash": "9702d019e0ecc78c4523bcde3a60ba511fd971dfb187035bf69a282ae2f1eab8"
  },
  "kernelspec": {
   "display_name": "Python 3.10.4 ('lesskarma-5hD8gFdB-py3.10')",
   "language": "python",
   "name": "python3"
  },
  "language_info": {
   "codemirror_mode": {
    "name": "ipython",
    "version": 3
   },
   "file_extension": ".py",
   "mimetype": "text/x-python",
   "name": "python",
   "nbconvert_exporter": "python",
   "pygments_lexer": "ipython3",
   "version": "3.10.4"
  },
  "orig_nbformat": 4
 },
 "nbformat": 4,
 "nbformat_minor": 2
}
